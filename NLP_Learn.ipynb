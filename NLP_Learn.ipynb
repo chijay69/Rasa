{
 "cells": [
  {
   "cell_type": "code",
   "execution_count": 1,
   "id": "10863153-2491-4e60-8956-b4131cf93b46",
   "metadata": {},
   "outputs": [],
   "source": [
    "import spacy\n",
    "import nltk"
   ]
  },
  {
   "cell_type": "code",
   "execution_count": 2,
   "id": "725c0d3b-2b0e-4e8d-8122-24c2b70cd892",
   "metadata": {},
   "outputs": [],
   "source": [
    "nlp = spacy.load(\"en_core_web_sm\")"
   ]
  },
  {
   "cell_type": "code",
   "execution_count": 3,
   "id": "33078aa5-8d1b-46cb-91e7-1e9deef32da4",
   "metadata": {},
   "outputs": [],
   "source": [
    "doc = nlp(u'I am learning how to build chatbots') #Creates a doc object"
   ]
  },
  {
   "cell_type": "code",
   "execution_count": 4,
   "id": "235c6c9b-d756-464f-a796-bc8f12592d07",
   "metadata": {},
   "outputs": [
    {
     "name": "stdout",
     "output_type": "stream",
     "text": [
      "I PRON\n",
      "am AUX\n",
      "learning VERB\n",
      "how SCONJ\n",
      "to PART\n",
      "build VERB\n",
      "chatbots NOUN\n"
     ]
    }
   ],
   "source": [
    "for token in doc:\n",
    "    print(token.text, token.pos_) #prints the text and POS"
   ]
  },
  {
   "cell_type": "code",
   "execution_count": 5,
   "id": "657ddf40-f0ab-41da-b614-bbf0c3f2ae8a",
   "metadata": {},
   "outputs": [],
   "source": [
    "doc = nlp(u'Google release \"Move Mirror\" AI experiment that matches your pose from 80,000 images')"
   ]
  },
  {
   "cell_type": "code",
   "execution_count": 6,
   "id": "34106c1a-26ac-4641-84bb-d7f7c7b2f14d",
   "metadata": {},
   "outputs": [
    {
     "name": "stdout",
     "output_type": "stream",
     "text": [
      "('Google', 'Google', 'PROPN', 'NNP', 'compound', 'Xxxxx', True, False)\n",
      "('release', 'release', 'NOUN', 'NN', 'ROOT', 'xxxx', True, False)\n",
      "('\"', '\"', 'PUNCT', '``', 'punct', '\"', False, False)\n",
      "('Move', 'Move', 'PROPN', 'NNP', 'nmod', 'Xxxx', True, True)\n",
      "('Mirror', 'Mirror', 'PROPN', 'NNP', 'nmod', 'Xxxxx', True, False)\n",
      "('\"', '\"', 'PUNCT', \"''\", 'punct', '\"', False, False)\n",
      "('AI', 'AI', 'PROPN', 'NNP', 'compound', 'XX', True, False)\n",
      "('experiment', 'experiment', 'NOUN', 'NN', 'appos', 'xxxx', True, False)\n",
      "('that', 'that', 'PRON', 'WDT', 'nsubj', 'xxxx', True, True)\n",
      "('matches', 'match', 'VERB', 'VBZ', 'relcl', 'xxxx', True, False)\n",
      "('your', 'your', 'PRON', 'PRP$', 'poss', 'xxxx', True, True)\n",
      "('pose', 'pose', 'NOUN', 'NN', 'dobj', 'xxxx', True, False)\n",
      "('from', 'from', 'ADP', 'IN', 'prep', 'xxxx', True, True)\n",
      "('80,000', '80,000', 'NUM', 'CD', 'nummod', 'dd,ddd', False, False)\n",
      "('images', 'image', 'NOUN', 'NNS', 'pobj', 'xxxx', True, False)\n"
     ]
    }
   ],
   "source": [
    "for token in doc:\n",
    "    print((token.text, token.lemma_, token.pos_, token.tag_, token.dep_, token.shape_, token.is_alpha, token.is_stop))"
   ]
  },
  {
   "cell_type": "code",
   "execution_count": 7,
   "id": "6d155fbd-60d0-4c7a-8396-a2ce210b074b",
   "metadata": {},
   "outputs": [],
   "source": [
    "doc=nlp(u'fastest')"
   ]
  },
  {
   "cell_type": "code",
   "execution_count": 8,
   "id": "92145e38-d185-44e8-9296-a8e1d99190cd",
   "metadata": {},
   "outputs": [
    {
     "name": "stdout",
     "output_type": "stream",
     "text": [
      "fast\n"
     ]
    }
   ],
   "source": [
    "for token in doc:\n",
    "    print(token.lemma_)"
   ]
  },
  {
   "cell_type": "code",
   "execution_count": 9,
   "id": "7c0733d5-3dfb-4363-b9de-f3655ae47777",
   "metadata": {},
   "outputs": [],
   "source": [
    "from nltk.stem.porter import *"
   ]
  },
  {
   "cell_type": "code",
   "execution_count": 10,
   "id": "683bfa22-ed9a-4780-84c3-62406818bdc6",
   "metadata": {},
   "outputs": [],
   "source": [
    "from nltk.stem.snowball import SnowballStemmer"
   ]
  },
  {
   "cell_type": "code",
   "execution_count": 11,
   "id": "4934a35a-cc53-4861-a24a-eccf37b31cfd",
   "metadata": {},
   "outputs": [],
   "source": [
    "porter_stemmer = PorterStemmer()\n",
    "snowball_stemmer = SnowballStemmer(\"english\")"
   ]
  },
  {
   "cell_type": "code",
   "execution_count": 12,
   "id": "b4c58f86-e02f-4bfd-8d8b-d58c31f41877",
   "metadata": {},
   "outputs": [
    {
     "name": "stdout",
     "output_type": "stream",
     "text": [
      "fastest\n",
      "fastest\n"
     ]
    }
   ],
   "source": [
    "print(porter_stemmer.stem(\"fastest\"))\n",
    "print(snowball_stemmer.stem(\"fastest\"))"
   ]
  },
  {
   "cell_type": "code",
   "execution_count": 13,
   "id": "f739fe41-373b-4fbb-9737-4e6853281b9e",
   "metadata": {},
   "outputs": [],
   "source": [
    "my_string = u\"Google has its headquarters in Mountain View, California having revenue amounted to 109.65 billion US dollars\""
   ]
  },
  {
   "cell_type": "code",
   "execution_count": 14,
   "id": "eb71690e-fb93-4f0f-8e74-9bf4eb080a4f",
   "metadata": {},
   "outputs": [],
   "source": [
    "doc = nlp(my_string)"
   ]
  },
  {
   "cell_type": "code",
   "execution_count": 15,
   "id": "c3b31cac-aea2-42a1-af23-91020b9a0028",
   "metadata": {},
   "outputs": [
    {
     "name": "stdout",
     "output_type": "stream",
     "text": [
      "Google 383\n",
      "Mountain View 384\n",
      "California 384\n",
      "109.65 billion US dollars 394\n"
     ]
    }
   ],
   "source": [
    "for ent in doc.ents:\n",
    "    print(ent.text, ent.label)"
   ]
  },
  {
   "cell_type": "code",
   "execution_count": 16,
   "id": "a87be24d-08e0-425e-a420-34f9226d39c0",
   "metadata": {},
   "outputs": [],
   "source": [
    "my_string = u\"Mark Zuckerberg born May 14, 1984 in New York is an American technology entrepreneur and philanthropist best known for co-founding and leading Facebook as its chairman and CEO.\"\n",
    "doc = nlp(my_string)"
   ]
  },
  {
   "cell_type": "code",
   "execution_count": 17,
   "id": "5afe04e4-40c1-4568-952a-52cc374f9340",
   "metadata": {},
   "outputs": [
    {
     "name": "stdout",
     "output_type": "stream",
     "text": [
      "Mark Zuckerberg PERSON\n",
      "May 14, 1984 DATE\n",
      "New York GPE\n",
      "American NORP\n"
     ]
    }
   ],
   "source": [
    "for ent in doc.ents:\n",
    "    print(ent.text, ent.label_)"
   ]
  },
  {
   "cell_type": "code",
   "execution_count": 18,
   "id": "cc8d74a5-99a5-4b23-836a-8ec5404daf39",
   "metadata": {},
   "outputs": [],
   "source": [
    "from spacy.lang.en.stop_words import STOP_WORDS"
   ]
  },
  {
   "cell_type": "code",
   "execution_count": 19,
   "id": "bae3bb50-6d8f-420e-b163-1daf10f1259b",
   "metadata": {},
   "outputs": [
    {
     "name": "stdout",
     "output_type": "stream",
     "text": [
      "{'keep', 'about', '’ve', 'itself', 'by', 'through', 'a', 'formerly', 'their', 'as', 'five', 'beyond', 'without', 'anywhere', 'an', 'against', 'afterwards', 'next', 'whoever', 'would', 'quite', 'three', 'in', 'same', 'only', 'twenty', 'must', 'over', 'namely', 'seemed', 'now', 'thereby', 'each', 'seeming', 'nevertheless', 'fifty', 'along', 'his', 'onto', 'from', 'please', 'say', 'who', 'top', 'not', 'of', 'sometimes', 'hereupon', 'nobody', 'often', 'yourself', 'although', 'ourselves', 'whence', 'to', 'yet', 'seem', 'together', 'otherwise', 'used', 'another', 'various', 'even', 'you', 're', 'which', 'put', 'whereas', 'side', 'take', 'still', 'one', 'hereby', 'therein', 'call', 'everyone', 'whose', '’re', 'besides', 'amount', 'nor', 'make', 'where', 'else', 'most', 'it', 'should', 'latter', 'been', 'seems', 'ten', 'him', 'unless', 'until', 'such', 'wherein', 'myself', 'ours', 'six', 'because', '‘s', 'within', 'when', 'nothing', 'before', 'both', 'noone', \"n't\", 'someone', 'empty', 'alone', 'and', 'whereafter', 'anyone', 'everywhere', 'nowhere', 'some', 'that', 'using', 'have', 'except', 'less', \"'ve\", '‘re', 'all', 'themselves', 'they', 'give', 'do', 'hers', 'how', 'thereupon', 'always', '‘ll', 'yours', 'first', '‘ve', 'moreover', 'eight', 'whom', 'anyhow', 'whether', 'be', 'becoming', 'somewhere', 'so', 'front', 'bottom', 'however', '’m', \"'ll\", 'upon', 'himself', 'were', 'elsewhere', 'did', 'behind', 'name', 'the', 'others', 'rather', 'nine', \"'re\", 'ca', 'regarding', 'four', 'for', 'perhaps', 'eleven', 'further', 'part', 'either', 'yourselves', 'mostly', 'fifteen', 'mine', 'again', 'other', 'sixty', 'none', 'already', 'twelve', 'via', 'neither', 'will', \"'s\", 'well', 'herself', 'every', 'third', 'than', 'go', 'up', 'during', 'with', 'get', 'my', 'thus', 'was', 'may', 'but', 'full', '‘d', 'ever', 'also', 'herein', 'though', 'therefore', 'latterly', 'her', 'thru', 'show', 'sometime', 'thereafter', 'becomes', 'hence', 'per', 'might', \"'d\", 'on', 'there', \"'m\", 'while', 'after', 'does', 'among', 'if', 'out', 'between', 'whereby', 'amongst', 'above', 'down', 'enough', 'he', 'has', 'thence', 'whither', 'here', 'towards', 'them', 'doing', 'became', 'its', 'several', 'see', 'much', 'done', 'very', 'many', 'somehow', 'once', 'then', 'anyway', 'cannot', 'is', 'whenever', 'never', 'n’t', 'across', 'around', 'few', 'former', 'something', '‘m', 'us', '’ll', 'being', 'at', 'everything', 'wherever', 'beforehand', 'any', 'become', 'we', 'back', 'own', 'into', 'she', 'had', 'whatever', 'move', 'really', 'am', 'anything', 'toward', 'forty', 'two', 'last', '’s', 'can', 'those', 'hundred', 'could', 'these', 'hereafter', 'under', 'made', 'since', 'me', 'whereupon', 'why', 'n‘t', 'serious', 'due', 'this', 'or', 'almost', 'just', 'no', '’d', 'meanwhile', 'off', 'least', 'are', 'indeed', 'our', 'below', 'your', 'throughout', 'too', 'whole', 'beside', 'more', 'what', 'i'}\n"
     ]
    }
   ],
   "source": [
    "print(STOP_WORDS)"
   ]
  },
  {
   "cell_type": "code",
   "execution_count": 20,
   "id": "c3852d68-9164-4659-bcab-531c20eed1a2",
   "metadata": {},
   "outputs": [],
   "source": [
    "doc = nlp(u'Book me a flight from Bangalore to Goa')"
   ]
  },
  {
   "cell_type": "code",
   "execution_count": 21,
   "id": "1b572f5a-cacd-45d4-98da-c8f8bf187508",
   "metadata": {},
   "outputs": [
    {
     "data": {
      "text/plain": [
       "[from, flight, Book]"
      ]
     },
     "execution_count": 21,
     "metadata": {},
     "output_type": "execute_result"
    }
   ],
   "source": [
    "blr, goa = doc[5], doc[7]\n",
    "list(blr.ancestors)\n"
   ]
  },
  {
   "cell_type": "code",
   "execution_count": 22,
   "id": "a0800ae5-fed7-438b-856d-2aa2f4c59cd5",
   "metadata": {},
   "outputs": [
    {
     "data": {
      "text/plain": [
       "[to, flight, Book]"
      ]
     },
     "execution_count": 22,
     "metadata": {},
     "output_type": "execute_result"
    }
   ],
   "source": [
    "list(goa.ancestors)"
   ]
  },
  {
   "cell_type": "code",
   "execution_count": 23,
   "id": "d3afc5ec-751a-41a8-abf9-4d3c61609ad3",
   "metadata": {},
   "outputs": [
    {
     "data": {
      "text/plain": [
       "True"
      ]
     },
     "execution_count": 23,
     "metadata": {},
     "output_type": "execute_result"
    }
   ],
   "source": [
    "doc[3].is_ancestor(doc[5])"
   ]
  },
  {
   "cell_type": "code",
   "execution_count": 24,
   "id": "5e575240-358d-42ec-9904-10880739763a",
   "metadata": {},
   "outputs": [],
   "source": [
    "doc = nlp(u'Book a table at the restaurant and the taxi to the hotel')"
   ]
  },
  {
   "cell_type": "code",
   "execution_count": 25,
   "id": "633e7887-6420-4d8f-bbcc-2db76c871a83",
   "metadata": {},
   "outputs": [],
   "source": [
    "tasks = doc[2], doc[8] #(table, taxi)"
   ]
  },
  {
   "cell_type": "code",
   "execution_count": 26,
   "id": "bd36ce04-ac68-4dc5-95a7-dc732f9acf49",
   "metadata": {},
   "outputs": [],
   "source": [
    "tasks_target = doc[5], doc[11] #(restaurant, hotel)"
   ]
  },
  {
   "cell_type": "code",
   "execution_count": 27,
   "id": "a9b20d9b-f57b-4cd0-a135-e29771823051",
   "metadata": {},
   "outputs": [
    {
     "name": "stdout",
     "output_type": "stream",
     "text": [
      "Booking of table belongs to restaurant\n",
      "Booking of taxi belongs to hotel\n"
     ]
    }
   ],
   "source": [
    "for task in tasks_target:\n",
    "    for tok in task.ancestors:\n",
    "        if tok in tasks:\n",
    "            print(\"Booking of {} belongs to {}\".format(tok, task))\n",
    "            break"
   ]
  },
  {
   "cell_type": "code",
   "execution_count": 28,
   "id": "edd83123-d1a9-4a24-814b-9bb280f78357",
   "metadata": {},
   "outputs": [],
   "source": [
    "from spacy import displacy"
   ]
  },
  {
   "cell_type": "code",
   "execution_count": 148,
   "id": "7360b051-b84d-4e72-8e3c-947cf7ba09ed",
   "metadata": {},
   "outputs": [],
   "source": [
    "string = \"What are some places to visit in Berlin and stay in Lubeck\""
   ]
  },
  {
   "cell_type": "code",
   "execution_count": 149,
   "id": "691c0ff8-fb94-4029-a414-6c612b8be3bf",
   "metadata": {},
   "outputs": [],
   "source": [
    "doc = nlp(string)"
   ]
  },
  {
   "cell_type": "code",
   "execution_count": 150,
   "id": "8618b435-37df-4828-90be-ad33076c3261",
   "metadata": {},
   "outputs": [
    {
     "data": {
      "text/plain": [
       "['Berlin', 'Lubeck']"
      ]
     },
     "execution_count": 150,
     "metadata": {},
     "output_type": "execute_result"
    }
   ],
   "source": [
    "places=[word.text for word in doc.ents if word.label == 384]\n",
    "places"
   ]
  },
  {
   "cell_type": "code",
   "execution_count": 151,
   "id": "7c0242d3-8a0e-4ff2-84d4-951e5d9df1b2",
   "metadata": {},
   "outputs": [
    {
     "data": {
      "text/plain": [
       "[{'Berlin': 33, 'Lubeck': 52}]"
      ]
     },
     "execution_count": 151,
     "metadata": {},
     "output_type": "execute_result"
    }
   ],
   "source": [
    "indexes =[{places[i]:string.find(places[i]) for i in range(0, len(places))}]\n",
    "indexes"
   ]
  },
  {
   "cell_type": "code",
   "execution_count": 152,
   "id": "889d7ec4-a557-43d4-9169-a8208676a911",
   "metadata": {},
   "outputs": [
    {
     "data": {
      "text/plain": [
       "{'Berlin': 33, 'Lubeck': 52}"
      ]
     },
     "execution_count": 152,
     "metadata": {},
     "output_type": "execute_result"
    }
   ],
   "source": [
    "mydict= indexes[0]\n",
    "mydict"
   ]
  },
  {
   "cell_type": "code",
   "execution_count": 153,
   "id": "80b12bf0-f9a0-4c2d-b063-49c5cf7d816a",
   "metadata": {},
   "outputs": [
    {
     "data": {
      "text/plain": [
       "['visit', 'stay']"
      ]
     },
     "execution_count": 153,
     "metadata": {},
     "output_type": "execute_result"
    }
   ],
   "source": [
    "verbs = [token.text for token in doc if token.pos_ == \"VERB\"]\n",
    "verbs"
   ]
  },
  {
   "cell_type": "code",
   "execution_count": 154,
   "id": "9c1e33ee-b03a-445d-bc2a-c24c3a219679",
   "metadata": {},
   "outputs": [],
   "source": [
    "def get_location(places, string):\n",
    "    return [{places[i]:string.find(places[i]) for i in range(0, len(places))}]"
   ]
  },
  {
   "cell_type": "code",
   "execution_count": 155,
   "id": "a7105fc7-58ad-4285-a69a-a33f733de942",
   "metadata": {},
   "outputs": [],
   "source": [
    "def get_lexicon_noun(doc):\n",
    "    return [word.text for word in doc.ents if word.label == 384]"
   ]
  },
  {
   "cell_type": "code",
   "execution_count": 156,
   "id": "830c0c37-3f71-4ac5-9b6d-ae6ddc03aa25",
   "metadata": {},
   "outputs": [],
   "source": [
    "def get_lexicon_verb(doc):\n",
    "    return [token.text for token in doc if token.pos_ == \"VERB\"]"
   ]
  },
  {
   "cell_type": "code",
   "execution_count": 160,
   "id": "c4b8ab10-3a72-4525-ac12-8d5187036b65",
   "metadata": {},
   "outputs": [],
   "source": [
    "def get(type, string, doc):\n",
    "    if type.lower() == 'noun':\n",
    "        return get_location(get_lexicon_noun(doc), string)[0]\n",
    "    if type.lower() == 'verb':\n",
    "        return get_location(get_lexicon_verb(doc), string)[0]"
   ]
  },
  {
   "cell_type": "code",
   "execution_count": 163,
   "id": "4224c845-dd94-4052-b494-496e88bf5d44",
   "metadata": {},
   "outputs": [],
   "source": [
    "result = get('verb', string, doc)"
   ]
  },
  {
   "cell_type": "code",
   "execution_count": 164,
   "id": "9ff9bf66-bd60-4ea4-8684-76774d016681",
   "metadata": {},
   "outputs": [
    {
     "data": {
      "text/plain": [
       "{'visit': 24, 'stay': 44}"
      ]
     },
     "execution_count": 164,
     "metadata": {},
     "output_type": "execute_result"
    }
   ],
   "source": [
    "result"
   ]
  },
  {
   "cell_type": "code",
   "execution_count": null,
   "id": "7e1db007-d41c-424c-9224-fcf1fc43bf45",
   "metadata": {},
   "outputs": [],
   "source": []
  }
 ],
 "metadata": {
  "kernelspec": {
   "display_name": "Python 3 (ipykernel)",
   "language": "python",
   "name": "python3"
  },
  "language_info": {
   "codemirror_mode": {
    "name": "ipython",
    "version": 3
   },
   "file_extension": ".py",
   "mimetype": "text/x-python",
   "name": "python",
   "nbconvert_exporter": "python",
   "pygments_lexer": "ipython3",
   "version": "3.11.5"
  }
 },
 "nbformat": 4,
 "nbformat_minor": 5
}
