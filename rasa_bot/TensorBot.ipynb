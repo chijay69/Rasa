{
 "cells": [
  {
   "cell_type": "code",
   "execution_count": null,
   "id": "de509695-bf35-4430-b72a-55a539fc14b7",
   "metadata": {},
   "outputs": [],
   "source": [
    "from rasa_nlu.training_data import load_data\n",
    "from rasa_nlu.model import Trainer\n",
    "from rasa_nlu import config\n",
    "from rasa_nlu.training_data import load_data\n",
    "from rasa_nlu.model import Trainer\n",
    "from rasa_nlu.model import Metadata, Interpreter\n",
    "import yaml\n",
    "#  Loader=yaml.Loader\n",
    "# config = yaml.load(ymlfile, Loader=yaml.Loader)"
   ]
  },
  {
   "cell_type": "code",
   "execution_count": null,
   "id": "1222a72c-c5d4-4e0d-a062-b018964219fb",
   "metadata": {},
   "outputs": [],
   "source": [
    "def train_horoscopebot(data_json, config_file, model_dir):\n",
    "    training_data = load_data(data_json)\n",
    "    trainer = Trainer(config.load(config_file))\n",
    "    trainer.train(training_data)\n",
    "    model_directory = trainer.persist(model_dir, fixed_model_name ='horoscopebot')"
   ]
  },
  {
   "cell_type": "code",
   "execution_count": null,
   "id": "ad9ac2d4-75c9-4ba7-b0b5-e73445b6e4c3",
   "metadata": {},
   "outputs": [],
   "source": [
    "def predict_intent(text):\n",
    "    interpreter = Interpreter.load('./models/nlu/default/tensorbot')\n",
    "    print(interpreter.parse(text))"
   ]
  },
  {
   "cell_type": "code",
   "execution_count": null,
   "id": "5198e4f6-b42f-4b7a-8575-813e5cf26e39",
   "metadata": {},
   "outputs": [],
   "source": [
    "train_horoscopebot('./data/data.json', 'config.yaml', './models/nlu')"
   ]
  },
  {
   "cell_type": "code",
   "execution_count": null,
   "id": "caf0dbc2-8227-40e5-99c3-a52ad14de3e7",
   "metadata": {},
   "outputs": [],
   "source": []
  },
  {
   "cell_type": "code",
   "execution_count": null,
   "id": "5ea34276-5103-486a-ae11-31d24083ed6d",
   "metadata": {},
   "outputs": [],
   "source": []
  },
  {
   "cell_type": "code",
   "execution_count": null,
   "id": "f6ecc49d-1d4d-4dfc-b47e-af60cf9aee9e",
   "metadata": {},
   "outputs": [],
   "source": []
  },
  {
   "cell_type": "code",
   "execution_count": null,
   "id": "ff76a640-20ea-4590-aa7c-28e1cd102121",
   "metadata": {},
   "outputs": [],
   "source": []
  }
 ],
 "metadata": {
  "kernelspec": {
   "display_name": "Python 3 (ipykernel)",
   "language": "python",
   "name": "python3"
  },
  "language_info": {
   "codemirror_mode": {
    "name": "ipython",
    "version": 3
   },
   "file_extension": ".py",
   "mimetype": "text/x-python",
   "name": "python",
   "nbconvert_exporter": "python",
   "pygments_lexer": "ipython3",
   "version": "3.10.12"
  }
 },
 "nbformat": 4,
 "nbformat_minor": 5
}
